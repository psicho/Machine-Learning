{
 "cells": [
  {
   "cell_type": "code",
   "execution_count": 17,
   "metadata": {
    "collapsed": true
   },
   "outputs": [],
   "source": [
    "import numpy as np\n",
    "import matplotlib.pyplot as plt\n",
    "%matplotlib inline\n",
    "import pandas as pd\n",
    "# import mglearn\n",
    "from IPython.display import display\n",
    "plt.rc('font', family='Verdana')\n",
    "import sklearn"
   ]
  },
  {
   "cell_type": "code",
   "execution_count": 2,
   "metadata": {
    "collapsed": true
   },
   "outputs": [],
   "source": [
    "train = pd.read_csv('wine.csv', header=None)\n",
    "# X_train = pd.read_csv('crx_data_train_x.csv', header=None, na_values='?')\n",
    "# X_test = pd.read_csv('crx_data_test_x.csv', header=None, na_values='?')"
   ]
  },
  {
   "cell_type": "code",
   "execution_count": 57,
   "metadata": {
    "collapsed": true
   },
   "outputs": [],
   "source": [
    "y = train[0]\n",
    "X = train.loc[:,1:]"
   ]
  },
  {
   "cell_type": "code",
   "execution_count": 69,
   "metadata": {
    "collapsed": true
   },
   "outputs": [],
   "source": [
    "from sklearn.neighbors import KNeighborsRegressor\n",
    "from sklearn.model_selection import cross_val_score"
   ]
  },
  {
   "cell_type": "code",
   "execution_count": 70,
   "metadata": {},
   "outputs": [],
   "source": [
    "knn = KNeighborsRegressor(metric='minkowski')"
   ]
  },
  {
   "cell_type": "code",
   "execution_count": 71,
   "metadata": {},
   "outputs": [],
   "source": [
    "from sklearn.datasets import load_boston"
   ]
  },
  {
   "cell_type": "code",
   "execution_count": 72,
   "metadata": {},
   "outputs": [],
   "source": [
    "f = load_boston()\n",
    "df = pd.DataFrame(f['data'])\n",
    "\n",
    "# Масштабируем данные\n",
    "X = sklearn.preprocessing.scale(f['data'])\n",
    "\n",
    "y = f['target']"
   ]
  },
  {
   "cell_type": "code",
   "execution_count": 73,
   "metadata": {},
   "outputs": [
    {
     "data": {
      "text/plain": [
       "((506, 13), (13,), (506,))"
      ]
     },
     "execution_count": 73,
     "metadata": {},
     "output_type": "execute_result"
    }
   ],
   "source": [
    "f['data'].shape, f['feature_names'].shape, f['target'].shape"
   ]
  },
  {
   "cell_type": "code",
   "execution_count": 96,
   "metadata": {},
   "outputs": [],
   "source": [
    "def validate(param):\n",
    "    knn = KNeighborsRegressor(n_neighbors=5, p=param, weights='distance')\n",
    "    cv = sklearn.model_selection.KFold(n_splits=5, shuffle=True, random_state=42)\n",
    "    res = cross_val_score(knn, X, y, cv=cv, n_jobs=-1, scoring='neg_mean_squared_error')\n",
    "    return res.mean()"
   ]
  },
  {
   "cell_type": "code",
   "execution_count": 97,
   "metadata": {},
   "outputs": [
    {
     "data": {
      "text/plain": [
       "-17.33663788425967"
      ]
     },
     "execution_count": 97,
     "metadata": {},
     "output_type": "execute_result"
    }
   ],
   "source": [
    "validate(2)"
   ]
  },
  {
   "cell_type": "code",
   "execution_count": 100,
   "metadata": {},
   "outputs": [
    {
     "name": "stdout",
     "output_type": "stream",
     "text": [
      "1.0 -16.0502085084\n"
     ]
    }
   ],
   "source": [
    "max = 0\n",
    "score = -100\n",
    "score1 = 0\n",
    "\n",
    "step = np.linspace(1.0, 10.0, num=200)\n",
    "\n",
    "i = 1\n",
    "\n",
    "for i in step:\n",
    "    k = validate(i)\n",
    "    if k > score:\n",
    "        score = k\n",
    "        max = i\n",
    "    i += step\n",
    "print(max,score)"
   ]
  },
  {
   "cell_type": "code",
   "execution_count": null,
   "metadata": {
    "collapsed": true
   },
   "outputs": [],
   "source": []
  }
 ],
 "metadata": {
  "kernelspec": {
   "display_name": "Python 3",
   "language": "python",
   "name": "python3"
  },
  "language_info": {
   "codemirror_mode": {
    "name": "ipython",
    "version": 3
   },
   "file_extension": ".py",
   "mimetype": "text/x-python",
   "name": "python",
   "nbconvert_exporter": "python",
   "pygments_lexer": "ipython3",
   "version": "3.6.1"
  }
 },
 "nbformat": 4,
 "nbformat_minor": 2
}
