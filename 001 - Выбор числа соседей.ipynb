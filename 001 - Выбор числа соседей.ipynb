{
 "cells": [
  {
   "cell_type": "code",
   "execution_count": 1,
   "metadata": {
    "collapsed": true
   },
   "outputs": [],
   "source": [
    "import numpy as np\n",
    "import matplotlib.pyplot as plt\n",
    "%matplotlib inline\n",
    "import pandas as pd\n",
    "# import mglearn\n",
    "from IPython.display import display\n",
    "plt.rc('font', family='Verdana')\n",
    "import sklearn"
   ]
  },
  {
   "cell_type": "code",
   "execution_count": 2,
   "metadata": {
    "collapsed": true
   },
   "outputs": [],
   "source": [
    "train = pd.read_csv('wine.csv', header=None)\n",
    "# X_train = pd.read_csv('crx_data_train_x.csv', header=None, na_values='?')\n",
    "# X_test = pd.read_csv('crx_data_test_x.csv', header=None, na_values='?')"
   ]
  },
  {
   "cell_type": "code",
   "execution_count": 57,
   "metadata": {},
   "outputs": [],
   "source": [
    "y = train[0]\n",
    "X = train.loc[:,1:]"
   ]
  },
  {
   "cell_type": "code",
   "execution_count": 7,
   "metadata": {},
   "outputs": [],
   "source": [
    "from sklearn.neighbors import KNeighborsClassifier\n",
    "from sklearn.model_selection import cross_val_score"
   ]
  },
  {
   "cell_type": "code",
   "execution_count": 96,
   "metadata": {},
   "outputs": [],
   "source": [
    "def validate(k):\n",
    "    knn = KNeighborsClassifier(n_neighbors=k)\n",
    "    cv = sklearn.model_selection.KFold(n_splits=5, shuffle=True, random_state=42)\n",
    "    res = cross_val_score(knn, X, y, cv=cv, n_jobs=-1)\n",
    "    return res.mean()"
   ]
  },
  {
   "cell_type": "code",
   "execution_count": 97,
   "metadata": {},
   "outputs": [
    {
     "name": "stdout",
     "output_type": "stream",
     "text": [
      "1 0.730476190476\n"
     ]
    }
   ],
   "source": [
    "max = 0\n",
    "score = 0\n",
    "\n",
    "for i in range(1,51):\n",
    "    k = validate(i)\n",
    "    if k > score:\n",
    "        score = k\n",
    "        max = i\n",
    "print(max,score)"
   ]
  },
  {
   "cell_type": "code",
   "execution_count": 99,
   "metadata": {},
   "outputs": [],
   "source": [
    "X = sklearn.preprocessing.scale(X)"
   ]
  },
  {
   "cell_type": "code",
   "execution_count": 100,
   "metadata": {},
   "outputs": [
    {
     "name": "stdout",
     "output_type": "stream",
     "text": [
      "29 0.977619047619\n"
     ]
    }
   ],
   "source": [
    "max = 0\n",
    "score = 0\n",
    "\n",
    "for i in range(1,51):\n",
    "    k = validate(i)\n",
    "    if k > score:\n",
    "        score = k\n",
    "        max = i\n",
    "print(max,score)"
   ]
  },
  {
   "cell_type": "code",
   "execution_count": null,
   "metadata": {
    "collapsed": true
   },
   "outputs": [],
   "source": []
  }
 ],
 "metadata": {
  "kernelspec": {
   "display_name": "Python 3",
   "language": "python",
   "name": "python3"
  },
  "language_info": {
   "codemirror_mode": {
    "name": "ipython",
    "version": 3
   },
   "file_extension": ".py",
   "mimetype": "text/x-python",
   "name": "python",
   "nbconvert_exporter": "python",
   "pygments_lexer": "ipython3",
   "version": "3.6.1"
  }
 },
 "nbformat": 4,
 "nbformat_minor": 2
}
